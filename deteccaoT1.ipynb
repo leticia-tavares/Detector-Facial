{
 "cells": [
  {
   "cell_type": "markdown",
   "id": "educational-congress",
   "metadata": {},
   "source": [
    "### Importar bibliotecas"
   ]
  },
  {
   "cell_type": "code",
   "execution_count": 1,
   "id": "parallel-banking",
   "metadata": {},
   "outputs": [],
   "source": [
    "import cv2 as cv\n",
    "import matplotlib.pyplot as plt\n",
    "import numpy as np"
   ]
  },
  {
   "cell_type": "markdown",
   "id": "comparable-minute",
   "metadata": {},
   "source": [
    "### Pré-processamento de imagem pela webcam"
   ]
  },
  {
   "cell_type": "code",
   "execution_count": 2,
   "id": "noted-benjamin",
   "metadata": {},
   "outputs": [],
   "source": [
    "capture = cv.VideoCapture(0) #device padrao\n",
    "if not capture.isOpened():\n",
    "    print(\"Error:  cannot open video\")\n",
    "    exit()"
   ]
  },
  {
   "cell_type": "markdown",
   "id": "organic-montana",
   "metadata": {},
   "source": [
    "### Definir o classificador"
   ]
  },
  {
   "cell_type": "code",
   "execution_count": 3,
   "id": "sealed-pharmaceutical",
   "metadata": {},
   "outputs": [],
   "source": [
    "classifier = cv.CascadeClassifier('haarcascade_frontalface_default.xml')"
   ]
  },
  {
   "cell_type": "markdown",
   "id": "handed-princeton",
   "metadata": {},
   "source": [
    "### Tratamento de ruído"
   ]
  },
  {
   "cell_type": "code",
   "execution_count": 4,
   "id": "competent-spiritual",
   "metadata": {},
   "outputs": [],
   "source": [
    "while True:\n",
    "    working, frame = capture.read()\n",
    "    if not working:\n",
    "        print(\"Error: cannot receive frame.\")\n",
    "        break\n",
    "   \n",
    "    grayFrame = cv.cvtColor(frame, cv.COLOR_BGR2GRAY)\n",
    "    facesDetectadas = classifier.detectMultiScale(grayFrame, minSize=(40, 40))\n",
    "    \n",
    "    for (x, y, l, a) in facesDetectadas:\n",
    "        cv.rectangle(frame, (x, y), (x + l, y + a), (0, 0, 255), 2)\n",
    "   \n",
    "    cv.imshow(\"Resultado\", frame)\n",
    "    if cv.waitKey(1) == ord('q'):\n",
    "        break"
   ]
  },
  {
   "cell_type": "markdown",
   "id": "mediterranean-buddy",
   "metadata": {},
   "source": [
    "### Termino do programa"
   ]
  },
  {
   "cell_type": "code",
   "execution_count": 17,
   "id": "acoustic-american",
   "metadata": {},
   "outputs": [],
   "source": [
    "capture.release()\n",
    "cv.destroyAllWindows()\n"
   ]
  },
  {
   "cell_type": "code",
   "execution_count": null,
   "id": "visible-importance",
   "metadata": {},
   "outputs": [],
   "source": []
  }
 ],
 "metadata": {
  "kernelspec": {
   "display_name": "Python 3",
   "language": "python",
   "name": "python3"
  },
  "language_info": {
   "codemirror_mode": {
    "name": "ipython",
    "version": 3
   },
   "file_extension": ".py",
   "mimetype": "text/x-python",
   "name": "python",
   "nbconvert_exporter": "python",
   "pygments_lexer": "ipython3",
   "version": "3.8.5"
  }
 },
 "nbformat": 4,
 "nbformat_minor": 5
}
